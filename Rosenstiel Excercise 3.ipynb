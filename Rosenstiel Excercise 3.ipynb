{
 "cells": [
  {
   "cell_type": "markdown",
   "metadata": {},
   "source": [
    "# SECTION 1"
   ]
  },
  {
   "cell_type": "markdown",
   "metadata": {},
   "source": [
    "    VARIABLE NAMES"
   ]
  },
  {
   "cell_type": "markdown",
   "metadata": {},
   "source": [
    "           THREE EXAMPLES OF BAD VARIABLE NAMES\n",
    "           1. Starts with a digit.\n",
    "               7roads\n",
    "               One rule of Python is all variable names begin with a letter, never a digit.\n",
    "           2. Short and ambigious named variables\n",
    "               sph\n",
    "               Unclear what the 'sph' stands for. Other users may not be aware of what the name means.\n",
    "           3. Names using mix of upper and lower case letters.\n",
    "               NumberOfHours\n",
    "               Names with underscores between worrds in variable names are easier to read."
   ]
  },
  {
   "cell_type": "markdown",
   "metadata": {},
   "source": [
    "        THREE EXAMPLES OF GOOD VARIABLE NAMES\n",
    "        1.Descriptive names.\n",
    "            state_name\n",
    "            Desribes the variables are all names of states.\n",
    "        2.Names follow a consistant convention.\n",
    "            CityCapitals or city_capitals\n",
    "            Choose one convention that capitalizes the first letter of a word or utilllize the lowercase and underscores between words. This allows the variables easy to read and understand, while writing an effective code.\n",
    "        3. Using no abbreviations for variable names.\n",
    "            miles_per_hour is clear and concise as to the meaning, instead of the abbreviation of mph."
   ]
  },
  {
   "cell_type": "markdown",
   "metadata": {},
   "source": [
    "# SECTION 2"
   ]
  },
  {
   "cell_type": "markdown",
   "metadata": {},
   "source": [
    "    What do you think the code below was intended to achieve?\n",
    "        The code is performing an arithmetic equation that is multiplying and storing the answer of another variable, and then printing the result of the multiplication.\n",
    "        The code is to print the final answer to the multiplication of the two numbers."
   ]
  },
  {
   "cell_type": "code",
   "execution_count": 6,
   "metadata": {},
   "outputs": [
    {
     "name": "stdout",
     "output_type": "stream",
     "text": [
      "500.0\n"
     ]
    }
   ],
   "source": [
    "x12yz=40.0\n",
    "x12yu=12.5\n",
    "x13yz=x12yz*x12yu\n",
    "print(x13yz)"
   ]
  },
  {
   "cell_type": "markdown",
   "metadata": {},
   "source": [
    "   Rewriting the code in a mnemonic variable names the code looks like this. And adding a comment is helpful to understanding what is being achieved by running the code."
   ]
  },
  {
   "cell_type": "code",
   "execution_count": 7,
   "metadata": {},
   "outputs": [
    {
     "name": "stdout",
     "output_type": "stream",
     "text": [
      "500.0\n"
     ]
    }
   ],
   "source": [
    "#This is a comment. The following code is to discover the answer of the equation below.#\n",
    "digit1 = 40.0\n",
    "digit2 = 12.5\n",
    "result = digit1 * digit2\n",
    "print(result) "
   ]
  },
  {
   "cell_type": "markdown",
   "metadata": {},
   "source": [
    "It is more helpful to include comments to this code, so the goal of the code is meaningful and clear to others."
   ]
  },
  {
   "cell_type": "markdown",
   "metadata": {},
   "source": [
    "# SECTION 3"
   ]
  },
  {
   "cell_type": "markdown",
   "metadata": {},
   "source": [
    "Which string methods are helpful in contexting geoprocessing?"
   ]
  },
  {
   "cell_type": "markdown",
   "metadata": {},
   "source": [
    "    List five string methods along with a short description of each method.\n",
    "        1. swapcase() takes the selected text and makes it uppercase if lowercase and vice versa.\n",
    "        2. count()the number of occurances of a specific value in a string.\n",
    "        3. find() searches a string for a specific value and returns with the location of the value.\n",
    "        4. maketrans() returns a translatable table that can now be used in translations.\n",
    "        5. capitalize() turns the first character to uppercse letter."
   ]
  },
  {
   "cell_type": "markdown",
   "metadata": {},
   "source": [
    "Add and run Pythoon application examples for the chosen string methods."
   ]
  },
  {
   "cell_type": "code",
   "execution_count": 8,
   "metadata": {},
   "outputs": [
    {
     "name": "stdout",
     "output_type": "stream",
     "text": [
      "hELLO mY nAME iS peter\n"
     ]
    }
   ],
   "source": [
    "txt = \"Hello My Name Is PETER\"\n",
    "x = txt.swapcase ()\n",
    "print (x)"
   ]
  },
  {
   "cell_type": "code",
   "execution_count": 9,
   "metadata": {},
   "outputs": [
    {
     "name": "stdout",
     "output_type": "stream",
     "text": [
      "1\n"
     ]
    }
   ],
   "source": [
    "txt = \"Apples are nice, but oranges are better and my favorite fruit.\"\n",
    "x = txt.count(\"oranges\")\n",
    "print(x)"
   ]
  },
  {
   "cell_type": "code",
   "execution_count": 10,
   "metadata": {},
   "outputs": [
    {
     "name": "stdout",
     "output_type": "stream",
     "text": [
      "13\n"
     ]
    }
   ],
   "source": [
    "txt = \"Alt+F4 is an option of preventing onion chopping ninjas from interferring with games.\"\n",
    "x = txt.find(\"option\")\n",
    "print(x)"
   ]
  },
  {
   "cell_type": "code",
   "execution_count": 11,
   "metadata": {},
   "outputs": [
    {
     "name": "stdout",
     "output_type": "stream",
     "text": [
      "Hello Lord Pepper!\n"
     ]
    }
   ],
   "source": [
    "txt = \"Hello Lord Fepper!\"\n",
    "mytable = str.maketrans(\"F\", \"P\")\n",
    "print(txt.translate(mytable))"
   ]
  },
  {
   "cell_type": "code",
   "execution_count": 12,
   "metadata": {},
   "outputs": [
    {
     "name": "stdout",
     "output_type": "stream",
     "text": [
      "Hello there!\n"
     ]
    }
   ],
   "source": [
    "txt = \"hello there!\"\n",
    "x = txt.capitalize()\n",
    "print(x)"
   ]
  },
  {
   "cell_type": "code",
   "execution_count": null,
   "metadata": {},
   "outputs": [],
   "source": []
  }
 ],
 "metadata": {
  "kernelspec": {
   "display_name": "ArcGISPro",
   "language": "Python",
   "name": "python3"
  },
  "language_info": {
   "file_extension": ".py",
   "name": "python",
   "version": "3"
  }
 },
 "nbformat": 4,
 "nbformat_minor": 2
}
