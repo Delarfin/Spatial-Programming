{
 "cells": [
  {
   "cell_type": "markdown",
   "metadata": {},
   "source": [
    "# SECTION 1"
   ]
  },
  {
   "cell_type": "markdown",
   "metadata": {},
   "source": [
    "    VARIABLE NAMES"
   ]
  },
  {
   "cell_type": "markdown",
   "metadata": {},
   "source": [
    "           THREE EXAMPLES OF BAD VARIABLE NAMES\n",
    "           1. Starts with a digit.\n",
    "               7roads\n",
    "               One rule of Python is all variable names begin with a letter, never a digit.\n",
    "           2. Short and ambigious named variables\n",
    "               sph\n",
    "               Unclear what the 'sph' stands for. Other users may not be aware of what the name means.\n",
    "           3. Names using mix of upper and lower case letters.\n",
    "               NumberOfHours\n",
    "               Names with underscores between worrds in variable names are easier to read."
   ]
  },
  {
   "cell_type": "markdown",
   "metadata": {},
   "source": [
    "        THREE EXAMPLES OF GOOD VARIABLE NAMES\n",
    "        1.Descriptive names.\n",
    "            state_name\n",
    "            Desribes the variables are all names of states.\n",
    "        2.Names follow a consistant convention.\n",
    "            CityCapitals or city_capitals\n",
    "            Choose one convention that capitalizes the first letter of a word or utilllize the lowercase and underscores between words. This allows the variables easy to read and understand, while writing an effective code.\n",
    "        3. Using no abbreviations for variable names.\n",
    "            miles_per_hour is clear and concise as to the meaning, instead of the abbreviation of mph."
   ]
  },
  {
   "cell_type": "code",
   "execution_count": null,
   "metadata": {},
   "outputs": [],
   "source": []
  },
  {
   "cell_type": "code",
   "execution_count": null,
   "metadata": {},
   "outputs": [],
   "source": []
  }
 ],
 "metadata": {
  "kernelspec": {
   "display_name": "ArcGISPro",
   "language": "Python",
   "name": "python3"
  },
  "language_info": {
   "file_extension": ".py",
   "name": "python",
   "version": "3"
  }
 },
 "nbformat": 4,
 "nbformat_minor": 2
}
